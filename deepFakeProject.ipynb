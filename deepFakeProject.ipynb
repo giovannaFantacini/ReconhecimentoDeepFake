{
  "nbformat": 4,
  "nbformat_minor": 0,
  "metadata": {
    "colab": {
      "provenance": [],
      "mount_file_id": "1e9RvS62OfNjoZWK33-eSiL6IO4n_s0dV",
      "authorship_tag": "ABX9TyOfaN5aHZ/AixOW2q/2MsiG",
      "include_colab_link": true
    },
    "kernelspec": {
      "name": "python3",
      "display_name": "Python 3"
    },
    "language_info": {
      "name": "python"
    }
  },
  "cells": [
    {
      "cell_type": "markdown",
      "metadata": {
        "id": "view-in-github",
        "colab_type": "text"
      },
      "source": [
        "<a href=\"https://colab.research.google.com/github/giovannaFantacini/ReconhecimentoDeepFake/blob/main/deepFakeProject.ipynb\" target=\"_parent\"><img src=\"https://colab.research.google.com/assets/colab-badge.svg\" alt=\"Open In Colab\"/></a>"
      ]
    },
    {
      "cell_type": "code",
      "source": [
        "!pip install gradio Pillow facenet-pytorch==2.5.2 torch==1.11.0 opencv-python grad-cam"
      ],
      "metadata": {
        "id": "rc4zwtQbivBp"
      },
      "execution_count": null,
      "outputs": []
    },
    {
      "cell_type": "code",
      "execution_count": null,
      "metadata": {
        "id": "7Yu4zZSKhNEh"
      },
      "outputs": [],
      "source": [
        "import gradio as gr\n",
        "import torch\n",
        "import torch.nn.functional as F\n",
        "from facenet_pytorch import MTCNN, InceptionResnetV1\n",
        "import os\n",
        "import numpy as np\n",
        "from PIL import Image\n",
        "import zipfile\n",
        "import cv2\n",
        "from pytorch_grad_cam import GradCAM\n",
        "from pytorch_grad_cam.utils.model_targets import ClassifierOutputTarget\n",
        "from pytorch_grad_cam.utils.image import show_cam_on_image"
      ]
    },
    {
      "cell_type": "code",
      "source": [
        "with zipfile.ZipFile(\"/content/drive/MyDrive/DeepFakeDetection/examples.zip\",\"r\") as zip_ref:\n",
        "    zip_ref.extractall(\".\")\n",
        "\n",
        "DEVICE = 'cuda:0' if torch.cuda.is_available() else 'cpu'\n",
        "\n",
        "mtcnn = MTCNN(\n",
        "    select_largest=False,\n",
        "    post_process=False,\n",
        "    device=DEVICE\n",
        ").to(DEVICE).eval()\n",
        "\n",
        "model = InceptionResnetV1(\n",
        "    pretrained=\"vggface2\",\n",
        "    classify=True,\n",
        "    num_classes=1,\n",
        "    device=DEVICE\n",
        ")\n",
        "\n",
        "checkpoint = torch.load(\"/content/drive/MyDrive/DeepFakeDetection/resnetinceptionv1_epoch_32.pth\", map_location=torch.device('cpu'))\n",
        "model.load_state_dict(checkpoint['model_state_dict'])\n",
        "model.to(DEVICE)\n",
        "model.eval()\n"
      ],
      "metadata": {
        "id": "ai6LesqzhOoY"
      },
      "execution_count": null,
      "outputs": []
    },
    {
      "cell_type": "code",
      "source": [
        "def predict(input_image:Image.Image, true_label:str):\n",
        "    \"\"\"Predict the label of the input_image\"\"\"\n",
        "    face = mtcnn(input_image)\n",
        "    if face is None:\n",
        "        raise Exception('No face detected')\n",
        "    face = face.unsqueeze(0) # add the batch dimension\n",
        "    face = F.interpolate(face, size=(256, 256), mode='bilinear', align_corners=False)\n",
        "\n",
        "    # convert the face into a numpy array to be able to plot it\n",
        "    prev_face = face.squeeze(0).permute(1, 2, 0).cpu().detach().int().numpy()\n",
        "    prev_face = prev_face.astype('uint8')\n",
        "\n",
        "    face = face.to(DEVICE)\n",
        "    face = face.to(torch.float32)\n",
        "    face = face / 255.0\n",
        "    face_image_to_plot = face.squeeze(0).permute(1, 2, 0).cpu().detach().int().numpy()\n",
        "\n",
        "    target_layers=[model.block8.branch1[-1]]\n",
        "    use_cuda = True if torch.cuda.is_available() else False\n",
        "    cam = GradCAM(model=model, target_layers=target_layers, use_cuda=use_cuda)\n",
        "    targets = [ClassifierOutputTarget(0)]\n",
        "\n",
        "    grayscale_cam = cam(input_tensor=face, targets=targets, eigen_smooth=True)\n",
        "    grayscale_cam = grayscale_cam[0, :]\n",
        "    visualization = show_cam_on_image(face_image_to_plot, grayscale_cam, use_rgb=True)\n",
        "    face_with_mask = cv2.addWeighted(prev_face, 1, visualization, 0.5, 0)\n",
        "\n",
        "    with torch.no_grad():\n",
        "        output = torch.sigmoid(model(face).squeeze(0))\n",
        "        prediction = \"real\" if output.item() < 0.5 else \"fake\"\n",
        "\n",
        "        real_prediction = 1 - output.item()\n",
        "        fake_prediction = output.item()\n",
        "\n",
        "        confidences = {\n",
        "            'real': real_prediction,\n",
        "            'fake': fake_prediction\n",
        "        }\n",
        "    return confidences, face_with_mask"
      ],
      "metadata": {
        "id": "AYU1xw_ChVJ7"
      },
      "execution_count": null,
      "outputs": []
    },
    {
      "cell_type": "code",
      "source": [
        "import os\n",
        "\n",
        "def list_images_with_labels(directory_path):\n",
        "    real_images = []\n",
        "    fake_images = []\n",
        "\n",
        "    for root, dirs, files in os.walk(directory_path):\n",
        "        for filename in files:\n",
        "            file_path = os.path.join(root, filename)\n",
        "            label = os.path.basename(root)\n",
        "\n",
        "            if label == 'real':\n",
        "                real_images.append([file_path])\n",
        "            elif label == 'fake':\n",
        "                fake_images.append([file_path])\n",
        "\n",
        "    return real_images, fake_images"
      ],
      "metadata": {
        "id": "hfU0F5Z5u2kD"
      },
      "execution_count": null,
      "outputs": []
    },
    {
      "cell_type": "code",
      "source": [
        "real_images, fake_images = list_images_with_labels('/content/drive/MyDrive/DeepFakeDetection/images')\n",
        "\n",
        "with gr.Blocks() as demo:\n",
        "\n",
        "  with gr.Row():\n",
        "    with gr.Column():\n",
        "      inputImage = gr.Image(label=\"Input Image\", type=\"pil\")\n",
        "      clear = gr.ClearButton()\n",
        "\n",
        "    with gr.Column():\n",
        "      outputLabel = gr.Label(label=\"Class\", scale=2)\n",
        "      outputImage = gr.Image(label=\"Face with Explainability\", type=\"pil\", interactive=False, min_width=50)\n",
        "\n",
        "  # examples_list= gr.Examples(inputs=[[examples[i][\"path\"], examples[i][\"label\"]] for i in range(10)])\n",
        "  examples_real= gr.Examples(examples=real_images, inputs=[inputImage], outputs=[outputLabel, outputImage], fn=predict, label=\"Real Images\", run_on_click=True)\n",
        "  examples_fake= gr.Examples(examples=fake_images, inputs=[inputImage], outputs=[outputLabel, outputImage], fn=predict, label=\"Fake Images\", run_on_click=True)\n",
        "  clear.add([inputImage, outputLabel, outputImage])\n",
        "  inputImage.upload(fn=predict, inputs=[inputImage], outputs=[outputLabel, outputImage])\n",
        "\n",
        "demo.launch(share=True)"
      ],
      "metadata": {
        "id": "1z9uQhwhhX6i"
      },
      "execution_count": null,
      "outputs": []
    }
  ]
}